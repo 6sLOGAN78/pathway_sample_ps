{
 "cells": [
  {
   "cell_type": "code",
   "execution_count": null,
   "id": "5ddb710e",
   "metadata": {},
   "outputs": [],
   "source": [
    "import os\n",
    "from dotenv import load_dotenv\n",
    "from web_search import webQuery\n",
    "from langchain_google_genai import ChatGoogleGenerativeAI\n",
    "\n",
    "load_dotenv()\n",
    "\n",
    "class UserPreferencesAgent:\n",
    "    def __init__(self, user_details_path=\"user_details.txt\", api_key=None):\n",
    "        self.user_details_path = user_details_path\n",
    "        if api_key is None:\n",
    "            api_key = os.getenv(\"GOOGLE_API_KEY\")\n",
    "        if not api_key:\n",
    "            raise ValueError(\"Missing GOOGLE_API_KEY\")\n",
    "\n",
    "        # Web search agent\n",
    "        self.web_agent = webQuery(api_key=api_key)\n",
    "\n",
    "        # Chat model for generating search query\n",
    "        self.model = ChatGoogleGenerativeAI(\n",
    "            model=\"gemini-2.5-flash\",\n",
    "            google_api_key=api_key\n",
    "        )\n",
    "\n",
    "    def _read_user_details(self):\n",
    "        if not os.path.exists(self.user_details_path):\n",
    "            return \"\"\n",
    "        with open(self.user_details_path, \"r\", encoding=\"utf-8\") as f:\n",
    "            return f.read()\n",
    "\n",
    "    def _generate_search_query(self, user_text: str) -> str:\n",
    "        \"\"\"\n",
    "        Use ChatGoogleGenerativeAI to generate a search query from user likes/dislikes.\n",
    "        \"\"\"\n",
    "        system_prompt = f\"\"\"\n",
    "        You are a financial analyst AI.\n",
    "        Analyze the following user financial preferences.\n",
    "        Identify their most important likes and dislikes regarding stocks, markets, sectors, and investments.\n",
    "        Generate a concise, actionable web search query that can be used to fetch news or updates relevant to these preferences\n",
    "        the web query should ask for current and interesting news according to user details don't put unnecessary text and anything just give web query .\"\n",
    "        \n",
    "        \"\"\"\n",
    "\n",
    "        messages = [\n",
    "            {\"role\": \"system\", \"content\": system_prompt},\n",
    "            {\"role\": \"user\", \"content\": user_text}\n",
    "        ]\n",
    "\n",
    "        response = self.model.invoke(messages)\n",
    "        return str(response.content).strip()\n",
    "\n",
    "    def fetch_news_based_on_preferences(self) -> dict:\n",
    "        user_text = self._read_user_details()\n",
    "        if not user_text.strip():\n",
    "            return {\"text\": \"No user details found.\", \"sources\": []}\n",
    "\n",
    "        # Step 1: Generate search query\n",
    "        search_query = self._generate_search_query(user_text)\n",
    "\n",
    "        # Step 2: Query the web\n",
    "        result = self.web_agent.query(search_query)\n",
    "        return result\n",
    "\n",
    "\n",
    "# --- Example usage ---\n",
    "\n"
   ]
  },
  {
   "cell_type": "code",
   "execution_count": 19,
   "id": "295e4bb5",
   "metadata": {},
   "outputs": [
    {
     "data": {
      "text/plain": [
       "'**Web Query:** `current news \"Nvidia stock\" \"Tata Steel stock\" \"intraday trading\"`\\n\\n**Explanation of Web Query:**\\n*   `current news`: Ensures the search prioritizes the most recent and relevant information.\\n*   `\"Nvidia stock\"`: Specifically targets news, updates, and analysis pertaining to Nvidia\\'s stock performance, company developments, and market sentiment.\\n*   `\"Tata Steel stock\"`: Focuses on news, updates, and analysis related to Tata Steel\\'s stock performance, company announcements, and market trends.\\n*   `\"intraday trading\"`: Broadens the search to include articles, market analyses, and opportunities relevant to short-term trading strategies, market volatility, and stocks active for intraday movements, catering to the user\\'s interest in this trading style.'"
      ]
     },
     "execution_count": 19,
     "metadata": {},
     "output_type": "execute_result"
    }
   ],
   "source": [
    "agent = UserPreferencesAgent()\n",
    "x= agent._read_user_details()\n",
    "y = agent._generate_search_query(x)\n",
    "y"
   ]
  },
  {
   "cell_type": "code",
   "execution_count": 20,
   "id": "8b6190fd",
   "metadata": {},
   "outputs": [
    {
     "name": "stdout",
     "output_type": "stream",
     "text": [
      "AI-generated query results / Summary: Here's a summary of the latest news and potential intraday trading opportunities for Nvidia and Tata Steel stocks:\n",
      "\n",
      "## Nvidia (NVDA)\n",
      "\n",
      "Nvidia is currently a focal point in the market, largely driven by its central role in the artificial intelligence (AI) sector. The company's stock has shown remarkable resilience, trading consistently above key moving averages and maintaining a bullish trend.\n",
      "\n",
      "**Key Catalysts and News:**\n",
      "*   **Upcoming Earnings Report:** A significant near-term catalyst is Nvidia's upcoming earnings report, expected around November 19, 2025. Analysts anticipate another quarter of hypergrowth, with a high likelihood of outperformance due to recent downward revisions of market expectations. Positive guidance on AI investments and revenue monetization from upcoming Big Tech earnings could further fuel the rally in AI-related stocks.\n",
      "*   **AI Dominance and Demand:** Nvidia continues to be at the forefront of the AI boom, with strong demand for its high-powered GPUs from cloud providers, data centers, and enterprises building next-generation AI infrastructure. The company's latest Blackwell Ultra GB300 GPUs are designed for AI reasoning models and offer significantly improved performance.\n",
      "*   **Future Growth:** New products like Blackwell and Rubin are on schedule for volume production next year, with Nvidia anticipating a $3-4 trillion AI infrastructure opportunity over the next five years.\n",
      "*   **Analyst Sentiment:** The overall analyst sentiment for Nvidia is bullish, with a consensus of \"Moderate Buy\" and price targets ranging from $200 to $220.\n",
      "\n",
      "**Intraday Trading Opportunities:**\n",
      "*   While a short-term bearish analysis was noted on October 13 and 14, 2025, suggesting a potential recovery if the stock stays above certain levels, the overall sentiment remains bullish.\n",
      "*   Nvidia's stock was recently hovering around the $182.71 mark, identified as a critical support level. Intraday traders might watch for movements around this support.\n",
      "*   The market is closely watching Big Tech earnings reports, which could trigger significant movements in AI stocks, including Nvidia, based on guidance for AI investments.\n",
      "\n",
      "## Tata Steel (TATASTEEL)\n",
      "\n",
      "Tata Steel has demonstrated strong market performance recently, trading close to its 52-week high and outperforming its sector. The stock has seen impressive annual growth of 11.45% and a year-to-date surge of 25.09%, significantly outperforming the Sensex.\n",
      "\n",
      "**Key Catalysts and News:**\n",
      "*   **Market Performance and Technicals:** Tata Steel is currently trading just over 3% away from its 52-week high of Rs 177.85. The stock is positioned higher than its 20-day, 50-day, 100-day, and 200-day moving averages, indicating potential price stabilization, although it is slightly lower than the 5-day moving average.\n",
      "*   **Global Factors:** A global metals rally, expectations of U.S. interest rate cuts, a weaker dollar, and EU tariff hikes on Chinese steel are contributing to the stock's surge.\n",
      "*   **Potential Upside:** Analysts suggest that a decisive close above Rs 175 could trigger the next leg higher for Tata Steel, attracting more buyers.\n",
      "*   **Upcoming Earnings:** Tata Steel is expected to release its next earnings report on November 5, 2025.\n",
      "*   **Sustainability Initiatives:** Tata Steel is committed to carbon neutrality by 2045 and is implementing circular economy practices.\n",
      "\n",
      "**Intraday Trading Opportunities:**\n",
      "*   Intraday sentiment for Tata Steel was more or less neutral on October 20, 2025, with a recommendation to consider other stocks for intraday trades on that specific day.\n",
      "*   The stock has fluctuated within a day range of 170.82 to 173.30 as of October 19, 2025. Traders could monitor these intraday ranges for potential entry and exit points.\n",
      "*   Given the stock's consolidation in the Rs 166-175 range, a breakout above Rs 175 could present an intraday buying opportunity.\n",
      "*   The company's performance on previous days showed a slight downturn in weekly performance, but maintained a slight positive return over the past month.\n",
      "Sources: ['financialcontent.com', 'investing.com', 'nasdaq.com', 'forbes.com', 'businessinsider.com', 'munafasutra.com', 'marketsmojo.com', 'indiatimes.com', 'tradingview.com', 'kotaksecurities.com', 'munafasutra.com', 'investing.com', 'economictimes.com']\n"
     ]
    }
   ],
   "source": [
    "if __name__ == \"__main__\":\n",
    "    agent = UserPreferencesAgent()\n",
    "    news = agent.fetch_news_based_on_preferences()\n",
    "    print(\"AI-generated query results / Summary:\", news[\"text\"])\n",
    "    print(\"Sources:\", news[\"sources\"])"
   ]
  },
  {
   "cell_type": "code",
   "execution_count": null,
   "id": "a348c987",
   "metadata": {},
   "outputs": [],
   "source": []
  }
 ],
 "metadata": {
  "kernelspec": {
   "display_name": "Python 3",
   "language": "python",
   "name": "python3"
  },
  "language_info": {
   "codemirror_mode": {
    "name": "ipython",
    "version": 3
   },
   "file_extension": ".py",
   "mimetype": "text/x-python",
   "name": "python",
   "nbconvert_exporter": "python",
   "pygments_lexer": "ipython3",
   "version": "3.10.12"
  }
 },
 "nbformat": 4,
 "nbformat_minor": 5
}
